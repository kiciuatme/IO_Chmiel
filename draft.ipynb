{
 "cells": [
  {
   "attachments": {},
   "cell_type": "markdown",
   "metadata": {},
   "source": [
    "Snippets:\n",
    "`(pvio)> python3 -m pip install -r reqs.txt` - zaktualizuj biblioteki pyenv'a"
   ]
  },
  {
   "attachments": {},
   "cell_type": "markdown",
   "metadata": {},
   "source": [
    "LOAD `((N1 x *.jpg; N2 x *.csv[label_x_ref,*labels_cls]) -> (dy: pandas.dataframe[label_x_ref,*labels_cls], dx: {dy[label_x_ref]: ndarray[N3, *data_x_target_res, 3]]}))`"
   ]
  },
  {
   "cell_type": "code",
   "execution_count": 74,
   "metadata": {},
   "outputs": [
    {
     "name": "stdout",
     "output_type": "stream",
     "text": [
      "Read stats:\n",
      "    # entries ok: 192\n",
      "    # excess X: 1\n",
      "    # excess Y: 1\n",
      "    # excess L: 1\n",
      "    \n"
     ]
    },
    {
     "data": {
      "text/html": [
       "<div>\n",
       "<style scoped>\n",
       "    .dataframe tbody tr th:only-of-type {\n",
       "        vertical-align: middle;\n",
       "    }\n",
       "\n",
       "    .dataframe tbody tr th {\n",
       "        vertical-align: top;\n",
       "    }\n",
       "\n",
       "    .dataframe thead th {\n",
       "        text-align: right;\n",
       "    }\n",
       "</style>\n",
       "<table border=\"1\" class=\"dataframe\">\n",
       "  <thead>\n",
       "    <tr style=\"text-align: right;\">\n",
       "      <th></th>\n",
       "      <th>image</th>\n",
       "      <th>MEL</th>\n",
       "      <th>NV</th>\n",
       "      <th>BCC</th>\n",
       "      <th>AKIEC</th>\n",
       "      <th>BKL</th>\n",
       "      <th>VASC</th>\n",
       "    </tr>\n",
       "  </thead>\n",
       "  <tbody>\n",
       "    <tr>\n",
       "      <th>0</th>\n",
       "      <td>ISIC_0034321</td>\n",
       "      <td>0.0</td>\n",
       "      <td>1.0</td>\n",
       "      <td>0.0</td>\n",
       "      <td>0.0</td>\n",
       "      <td>0.0</td>\n",
       "      <td>0.0</td>\n",
       "    </tr>\n",
       "    <tr>\n",
       "      <th>1</th>\n",
       "      <td>ISIC_0034322</td>\n",
       "      <td>0.0</td>\n",
       "      <td>1.0</td>\n",
       "      <td>0.0</td>\n",
       "      <td>0.0</td>\n",
       "      <td>0.0</td>\n",
       "      <td>0.0</td>\n",
       "    </tr>\n",
       "    <tr>\n",
       "      <th>2</th>\n",
       "      <td>ISIC_0034323</td>\n",
       "      <td>0.0</td>\n",
       "      <td>0.0</td>\n",
       "      <td>1.0</td>\n",
       "      <td>0.0</td>\n",
       "      <td>0.0</td>\n",
       "      <td>0.0</td>\n",
       "    </tr>\n",
       "    <tr>\n",
       "      <th>3</th>\n",
       "      <td>ISIC_0034324</td>\n",
       "      <td>0.0</td>\n",
       "      <td>1.0</td>\n",
       "      <td>0.0</td>\n",
       "      <td>0.0</td>\n",
       "      <td>0.0</td>\n",
       "      <td>0.0</td>\n",
       "    </tr>\n",
       "    <tr>\n",
       "      <th>4</th>\n",
       "      <td>ISIC_0034325</td>\n",
       "      <td>0.0</td>\n",
       "      <td>1.0</td>\n",
       "      <td>0.0</td>\n",
       "      <td>0.0</td>\n",
       "      <td>0.0</td>\n",
       "      <td>0.0</td>\n",
       "    </tr>\n",
       "    <tr>\n",
       "      <th>...</th>\n",
       "      <td>...</td>\n",
       "      <td>...</td>\n",
       "      <td>...</td>\n",
       "      <td>...</td>\n",
       "      <td>...</td>\n",
       "      <td>...</td>\n",
       "      <td>...</td>\n",
       "    </tr>\n",
       "    <tr>\n",
       "      <th>188</th>\n",
       "      <td>ISIC_0034519</td>\n",
       "      <td>0.0</td>\n",
       "      <td>1.0</td>\n",
       "      <td>0.0</td>\n",
       "      <td>0.0</td>\n",
       "      <td>0.0</td>\n",
       "      <td>0.0</td>\n",
       "    </tr>\n",
       "    <tr>\n",
       "      <th>189</th>\n",
       "      <td>ISIC_0034520</td>\n",
       "      <td>0.0</td>\n",
       "      <td>1.0</td>\n",
       "      <td>0.0</td>\n",
       "      <td>0.0</td>\n",
       "      <td>0.0</td>\n",
       "      <td>0.0</td>\n",
       "    </tr>\n",
       "    <tr>\n",
       "      <th>190</th>\n",
       "      <td>ISIC_0034521</td>\n",
       "      <td>0.0</td>\n",
       "      <td>0.0</td>\n",
       "      <td>0.0</td>\n",
       "      <td>0.0</td>\n",
       "      <td>1.0</td>\n",
       "      <td>0.0</td>\n",
       "    </tr>\n",
       "    <tr>\n",
       "      <th>191</th>\n",
       "      <td>ISIC_0034522</td>\n",
       "      <td>0.0</td>\n",
       "      <td>1.0</td>\n",
       "      <td>0.0</td>\n",
       "      <td>0.0</td>\n",
       "      <td>0.0</td>\n",
       "      <td>0.0</td>\n",
       "    </tr>\n",
       "    <tr>\n",
       "      <th>192</th>\n",
       "      <td>ISIC_0034523</td>\n",
       "      <td>0.0</td>\n",
       "      <td>0.0</td>\n",
       "      <td>1.0</td>\n",
       "      <td>0.0</td>\n",
       "      <td>0.0</td>\n",
       "      <td>0.0</td>\n",
       "    </tr>\n",
       "  </tbody>\n",
       "</table>\n",
       "<p>192 rows × 7 columns</p>\n",
       "</div>"
      ],
      "text/plain": [
       "            image  MEL   NV  BCC  AKIEC  BKL  VASC\n",
       "0    ISIC_0034321  0.0  1.0  0.0    0.0  0.0   0.0\n",
       "1    ISIC_0034322  0.0  1.0  0.0    0.0  0.0   0.0\n",
       "2    ISIC_0034323  0.0  0.0  1.0    0.0  0.0   0.0\n",
       "3    ISIC_0034324  0.0  1.0  0.0    0.0  0.0   0.0\n",
       "4    ISIC_0034325  0.0  1.0  0.0    0.0  0.0   0.0\n",
       "..            ...  ...  ...  ...    ...  ...   ...\n",
       "188  ISIC_0034519  0.0  1.0  0.0    0.0  0.0   0.0\n",
       "189  ISIC_0034520  0.0  1.0  0.0    0.0  0.0   0.0\n",
       "190  ISIC_0034521  0.0  0.0  0.0    0.0  1.0   0.0\n",
       "191  ISIC_0034522  0.0  1.0  0.0    0.0  0.0   0.0\n",
       "192  ISIC_0034523  0.0  0.0  1.0    0.0  0.0   0.0\n",
       "\n",
       "[192 rows x 7 columns]"
      ]
     },
     "execution_count": 74,
     "metadata": {},
     "output_type": "execute_result"
    }
   ],
   "source": [
    "import glob\n",
    "import pandas as pd\n",
    "import cv2\n",
    "import numpy as np\n",
    "\n",
    "data_x_path_regex = r\"../ISIC2018_Task3_Validation_Input/*.jpg\"\n",
    "data_y_path_regex = r\"../ISIC2018_Task3_Validation_GroundTruth/ISIC2018_Task3_Validation_GroundTruth.csv\"\n",
    "data_x_target_res = (450, 600)\n",
    "label_x_ref = 'image'\n",
    "labels_cls = ['MEL', 'NV', 'BCC', 'AKIEC', 'BKL', 'DF', 'VASC']\n",
    "\n",
    "# preprocess X data\n",
    "def data_x_loader(data_x_path):\n",
    "    x = data_x_path\n",
    "    x = cv2.imread(x)\n",
    "    x = cv2.resize(x, data_x_target_res)\n",
    "    x = cv2.cvtColor(x, cv2.COLOR_BGR2YCrCb)\n",
    "    return x\n",
    "\n",
    "def load(data_x_path_regex, data_y_path_regex):\n",
    "    # read & merge Y data\n",
    "    data_y_paths = glob.glob(data_y_path_regex)\n",
    "    assert data_y_paths.__len__() > 0\n",
    "    dy_full = pd.concat([pd.read_csv(data_y_path) for data_y_path in data_y_paths])\n",
    "\n",
    "    # todo: filter out nulls\n",
    "    dy = dy_full\n",
    "\n",
    "    # filter out samples & labels of fewer than 2 positive\n",
    "    labels_cls_too_few = dy[labels_cls].loc[:, (dy[labels_cls].sum() < 2)].columns\n",
    "    for label_cls_too_few in labels_cls_too_few:\n",
    "        dy = dy.drop(dy[dy.loc[:, label_cls_too_few] == 1].index, axis=0)\n",
    "    dy = dy.drop(labels_cls_too_few, axis=1)\n",
    "    dl = [label_cls for label_cls in labels_cls if label_cls not in labels_cls_too_few]\n",
    "\n",
    "    # read & filter_out by Y & map X data\n",
    "    data_x_paths = glob.glob(data_x_path_regex)\n",
    "    map_ref2path_full = {ref: next((dxp for dxp in data_x_paths if ref in dxp), None) for ref in dy_full['image']}\n",
    "    map_ref2path = {ref: data_x_path for ref, data_x_path in map_ref2path_full.items() if (ref == dy[label_x_ref]).any() and data_x_path is not None}\n",
    "    dx = {ref: data_x_loader(data_x_path) for ref, data_x_path in map_ref2path.items()}\n",
    "\n",
    "    # filter out Y entries that dont have X entry\n",
    "    dy = dy.loc[dy[label_x_ref].isin(map_ref2path.keys())]\n",
    "\n",
    "    print(\n",
    "    f\"\"\"Read stats:\n",
    "    # entries ok: {dy.__len__()}\n",
    "    # excess X: {map_ref2path_full.__len__() - map_ref2path.__len__()}\n",
    "    # excess Y: {dy_full.__len__() - dy.__len__()}\n",
    "    # excess L: {labels_cls_too_few.__len__()}\n",
    "    \"\"\")     # Labels of too little samples\n",
    "    return dx, dy, dl\n",
    "\n",
    "dx, dy, dl = load(data_x_path_regex, data_y_path_regex)\n",
    "dy"
   ]
  },
  {
   "attachments": {},
   "cell_type": "markdown",
   "metadata": {},
   "source": [
    "TRAIN TEST SPLIT"
   ]
  },
  {
   "cell_type": "code",
   "execution_count": 3,
   "metadata": {},
   "outputs": [
    {
     "name": "stderr",
     "output_type": "stream",
     "text": [
      "c:\\Users\\krism\\Desktop\\semestr10\\IO\\pvio\\lib\\site-packages\\sklearn\\preprocessing\\_encoders.py:868: FutureWarning: `sparse` was renamed to `sparse_output` in version 1.2 and will be removed in 1.4. `sparse_output` is ignored unless you leave `sparse` to its default value.\n",
      "  warnings.warn(\n"
     ]
    },
    {
     "ename": "ValueError",
     "evalue": "The least populated class in y has only 1 member, which is too few. The minimum number of groups for any class cannot be less than 2.",
     "output_type": "error",
     "traceback": [
      "\u001b[1;31m---------------------------------------------------------------------------\u001b[0m",
      "\u001b[1;31mValueError\u001b[0m                                Traceback (most recent call last)",
      "Cell \u001b[1;32mIn[3], line 15\u001b[0m\n\u001b[0;32m     12\u001b[0m     \u001b[39mreturn\u001b[39;00m [dx[dy_selected[label_x_ref]], dy_selected[labels_cls]]\n\u001b[0;32m     14\u001b[0m sparse \u001b[39m=\u001b[39m ohe\u001b[39m.\u001b[39minverse_transform(dy[labels_cls])\n\u001b[1;32m---> 15\u001b[0m dyt, dys \u001b[39m=\u001b[39m train_test_split(dy, test_size\u001b[39m=\u001b[39;49mtts_factor, stratify\u001b[39m=\u001b[39;49msparse)\n",
      "File \u001b[1;32mc:\\Users\\krism\\Desktop\\semestr10\\IO\\pvio\\lib\\site-packages\\sklearn\\model_selection\\_split.py:2583\u001b[0m, in \u001b[0;36mtrain_test_split\u001b[1;34m(test_size, train_size, random_state, shuffle, stratify, *arrays)\u001b[0m\n\u001b[0;32m   2579\u001b[0m         CVClass \u001b[39m=\u001b[39m ShuffleSplit\n\u001b[0;32m   2581\u001b[0m     cv \u001b[39m=\u001b[39m CVClass(test_size\u001b[39m=\u001b[39mn_test, train_size\u001b[39m=\u001b[39mn_train, random_state\u001b[39m=\u001b[39mrandom_state)\n\u001b[1;32m-> 2583\u001b[0m     train, test \u001b[39m=\u001b[39m \u001b[39mnext\u001b[39;49m(cv\u001b[39m.\u001b[39;49msplit(X\u001b[39m=\u001b[39;49marrays[\u001b[39m0\u001b[39;49m], y\u001b[39m=\u001b[39;49mstratify))\n\u001b[0;32m   2585\u001b[0m \u001b[39mreturn\u001b[39;00m \u001b[39mlist\u001b[39m(\n\u001b[0;32m   2586\u001b[0m     chain\u001b[39m.\u001b[39mfrom_iterable(\n\u001b[0;32m   2587\u001b[0m         (_safe_indexing(a, train), _safe_indexing(a, test)) \u001b[39mfor\u001b[39;00m a \u001b[39min\u001b[39;00m arrays\n\u001b[0;32m   2588\u001b[0m     )\n\u001b[0;32m   2589\u001b[0m )\n",
      "File \u001b[1;32mc:\\Users\\krism\\Desktop\\semestr10\\IO\\pvio\\lib\\site-packages\\sklearn\\model_selection\\_split.py:1689\u001b[0m, in \u001b[0;36mBaseShuffleSplit.split\u001b[1;34m(self, X, y, groups)\u001b[0m\n\u001b[0;32m   1659\u001b[0m \u001b[39m\u001b[39m\u001b[39m\"\"\"Generate indices to split data into training and test set.\u001b[39;00m\n\u001b[0;32m   1660\u001b[0m \n\u001b[0;32m   1661\u001b[0m \u001b[39mParameters\u001b[39;00m\n\u001b[1;32m   (...)\u001b[0m\n\u001b[0;32m   1686\u001b[0m \u001b[39mto an integer.\u001b[39;00m\n\u001b[0;32m   1687\u001b[0m \u001b[39m\"\"\"\u001b[39;00m\n\u001b[0;32m   1688\u001b[0m X, y, groups \u001b[39m=\u001b[39m indexable(X, y, groups)\n\u001b[1;32m-> 1689\u001b[0m \u001b[39mfor\u001b[39;00m train, test \u001b[39min\u001b[39;00m \u001b[39mself\u001b[39m\u001b[39m.\u001b[39m_iter_indices(X, y, groups):\n\u001b[0;32m   1690\u001b[0m     \u001b[39myield\u001b[39;00m train, test\n",
      "File \u001b[1;32mc:\\Users\\krism\\Desktop\\semestr10\\IO\\pvio\\lib\\site-packages\\sklearn\\model_selection\\_split.py:2078\u001b[0m, in \u001b[0;36mStratifiedShuffleSplit._iter_indices\u001b[1;34m(self, X, y, groups)\u001b[0m\n\u001b[0;32m   2076\u001b[0m class_counts \u001b[39m=\u001b[39m np\u001b[39m.\u001b[39mbincount(y_indices)\n\u001b[0;32m   2077\u001b[0m \u001b[39mif\u001b[39;00m np\u001b[39m.\u001b[39mmin(class_counts) \u001b[39m<\u001b[39m \u001b[39m2\u001b[39m:\n\u001b[1;32m-> 2078\u001b[0m     \u001b[39mraise\u001b[39;00m \u001b[39mValueError\u001b[39;00m(\n\u001b[0;32m   2079\u001b[0m         \u001b[39m\"\u001b[39m\u001b[39mThe least populated class in y has only 1\u001b[39m\u001b[39m\"\u001b[39m\n\u001b[0;32m   2080\u001b[0m         \u001b[39m\"\u001b[39m\u001b[39m member, which is too few. The minimum\u001b[39m\u001b[39m\"\u001b[39m\n\u001b[0;32m   2081\u001b[0m         \u001b[39m\"\u001b[39m\u001b[39m number of groups for any class cannot\u001b[39m\u001b[39m\"\u001b[39m\n\u001b[0;32m   2082\u001b[0m         \u001b[39m\"\u001b[39m\u001b[39m be less than 2.\u001b[39m\u001b[39m\"\u001b[39m\n\u001b[0;32m   2083\u001b[0m     )\n\u001b[0;32m   2085\u001b[0m \u001b[39mif\u001b[39;00m n_train \u001b[39m<\u001b[39m n_classes:\n\u001b[0;32m   2086\u001b[0m     \u001b[39mraise\u001b[39;00m \u001b[39mValueError\u001b[39;00m(\n\u001b[0;32m   2087\u001b[0m         \u001b[39m\"\u001b[39m\u001b[39mThe train_size = \u001b[39m\u001b[39m%d\u001b[39;00m\u001b[39m should be greater or \u001b[39m\u001b[39m\"\u001b[39m\n\u001b[0;32m   2088\u001b[0m         \u001b[39m\"\u001b[39m\u001b[39mequal to the number of classes = \u001b[39m\u001b[39m%d\u001b[39;00m\u001b[39m\"\u001b[39m \u001b[39m%\u001b[39m (n_train, n_classes)\n\u001b[0;32m   2089\u001b[0m     )\n",
      "\u001b[1;31mValueError\u001b[0m: The least populated class in y has only 1 member, which is too few. The minimum number of groups for any class cannot be less than 2."
     ]
    }
   ],
   "source": [
    "from sklearn.model_selection import train_test_split\n",
    "# from sklearn.decomposition import sparse_encode\n",
    "from sklearn.preprocessing import OneHotEncoder, LabelBinarizer\n",
    "\n",
    "ohe = OneHotEncoder(sparse=False)\n",
    "ohe.fit(np.reshape(labels_cls, (-1, 1)))\n",
    "\n",
    "\n",
    "tts_factor = .2\n",
    "\n",
    "def data2clf_data(dy_selected, dx):\n",
    "    return [dx[dy_selected[label_x_ref]], dy_selected[labels_cls]]\n",
    "\n",
    "sparse = ohe.inverse_transform(dy[labels_cls])\n",
    "dyt, dys = train_test_split(dy, test_size=tts_factor, stratify=sparse)\n",
    "\n"
   ]
  },
  {
   "attachments": {},
   "cell_type": "markdown",
   "metadata": {},
   "source": [
    "CNN (control case) `(dx, dy) -> clf`"
   ]
  },
  {
   "cell_type": "code",
   "execution_count": 72,
   "metadata": {},
   "outputs": [
    {
     "data": {
      "text/plain": [
       "True"
      ]
     },
     "execution_count": 72,
     "metadata": {},
     "output_type": "execute_result"
    }
   ],
   "source": [
    "# ohe.inverse_transform(dy[labels_cls].to_numpy())\n",
    "# ohe.transform(ohe.inverse_transform(dy[labels_cls]))\n",
    "# dy[labels_cls].loc[:, (dy[labels_cls].sum() < 2)].columns\n",
    "# dy.loc[dy['DF'] == 1]\n",
    "# dy.drop\n",
    "# dy.drop(dy[dy.loc[:, 'DF'] == 1].index, axis=0).__len__()\n",
    "# dy.loc[dy[['DF']] == 1]\n",
    "(\"ISIC_0034321\" == dy['image']).any()"
   ]
  },
  {
   "cell_type": "code",
   "execution_count": 2,
   "metadata": {},
   "outputs": [
    {
     "ename": "TypeError",
     "evalue": "sparse_encode() missing 1 required positional argument: 'dictionary'",
     "output_type": "error",
     "traceback": [
      "\u001b[1;31m---------------------------------------------------------------------------\u001b[0m",
      "\u001b[1;31mTypeError\u001b[0m                                 Traceback (most recent call last)",
      "\u001b[1;32mc:\\Users\\krism\\Desktop\\semestr10\\IO\\IO_Chmiel\\draft.ipynb Cell 8\u001b[0m in \u001b[0;36m1\n\u001b[0;32m      <a href='vscode-notebook-cell:/c%3A/Users/krism/Desktop/semestr10/IO/IO_Chmiel/draft.ipynb#X10sZmlsZQ%3D%3D?line=0'>1</a>\u001b[0m \u001b[39m# [y for y in dy['image']]\u001b[39;00m\n\u001b[0;32m      <a href='vscode-notebook-cell:/c%3A/Users/krism/Desktop/semestr10/IO/IO_Chmiel/draft.ipynb#X10sZmlsZQ%3D%3D?line=1'>2</a>\u001b[0m \u001b[39m# data_x_paths\u001b[39;00m\n\u001b[0;32m      <a href='vscode-notebook-cell:/c%3A/Users/krism/Desktop/semestr10/IO/IO_Chmiel/draft.ipynb#X10sZmlsZQ%3D%3D?line=2'>3</a>\u001b[0m \u001b[39m# dy.at[8, 'DF'] = dx[1]\u001b[39;00m\n\u001b[1;32m   (...)\u001b[0m\n\u001b[0;32m      <a href='vscode-notebook-cell:/c%3A/Users/krism/Desktop/semestr10/IO/IO_Chmiel/draft.ipynb#X10sZmlsZQ%3D%3D?line=8'>9</a>\u001b[0m \u001b[39m# dx\u001b[39;00m\n\u001b[0;32m     <a href='vscode-notebook-cell:/c%3A/Users/krism/Desktop/semestr10/IO/IO_Chmiel/draft.ipynb#X10sZmlsZQ%3D%3D?line=9'>10</a>\u001b[0m \u001b[39m# import keras\u001b[39;00m\n\u001b[1;32m---> <a href='vscode-notebook-cell:/c%3A/Users/krism/Desktop/semestr10/IO/IO_Chmiel/draft.ipynb#X10sZmlsZQ%3D%3D?line=10'>11</a>\u001b[0m sparse_encode([[\u001b[39m0\u001b[39;49m, \u001b[39m1\u001b[39;49m], [\u001b[39m1\u001b[39;49m, \u001b[39m0\u001b[39;49m]])\n",
      "\u001b[1;31mTypeError\u001b[0m: sparse_encode() missing 1 required positional argument: 'dictionary'"
     ]
    }
   ],
   "source": [
    "# ohe.fit([[label_cls, lix] for lix, label_cls in enumerate(labels_cls)])\n",
    "# ohe.fit_transform(labels_cls)\n",
    "# print(ohe.get_feature_names_out())\n",
    "\n",
    "# [y for y in dy['image']]\n",
    "# data_x_paths\n",
    "# dy.at[8, 'DF'] = dx[1]\n",
    "# np.where(dy['image'][0] in data_x_paths)\n",
    "# for a, in map(str.__contains__, dy['image'], data_x_paths):\n",
    "#     print(a) \n",
    "# dy.loc[dy['image'].isin(['ISIC_0034321', ''])]\n",
    "# map_ref2path.keys()\n",
    "# dx\n",
    "# import keras\n",
    "# sparse_encode([[0, 1], [1, 0]])\n"
   ]
  }
 ],
 "metadata": {
  "kernelspec": {
   "display_name": "pvio",
   "language": "python",
   "name": "python3"
  },
  "language_info": {
   "codemirror_mode": {
    "name": "ipython",
    "version": 3
   },
   "file_extension": ".py",
   "mimetype": "text/x-python",
   "name": "python",
   "nbconvert_exporter": "python",
   "pygments_lexer": "ipython3",
   "version": "3.10.8"
  },
  "orig_nbformat": 4
 },
 "nbformat": 4,
 "nbformat_minor": 2
}
